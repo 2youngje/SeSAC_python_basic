{
  "nbformat": 4,
  "nbformat_minor": 0,
  "metadata": {
    "colab": {
      "provenance": [],
      "authorship_tag": "ABX9TyObDyZ7z9eOIFSsN9TDDdP1",
      "include_colab_link": true
    },
    "kernelspec": {
      "name": "python3",
      "display_name": "Python 3"
    },
    "language_info": {
      "name": "python"
    }
  },
  "cells": [
    {
      "cell_type": "markdown",
      "metadata": {
        "id": "view-in-github",
        "colab_type": "text"
      },
      "source": [
        "<a href=\"https://colab.research.google.com/github/2youngje/SeSAC_python_basic/blob/main/1_%ED%95%A8%EC%88%98.ipynb\" target=\"_parent\"><img src=\"https://colab.research.google.com/assets/colab-badge.svg\" alt=\"Open In Colab\"/></a>"
      ]
    },
    {
      "cell_type": "markdown",
      "source": [
        "# 함수"
      ],
      "metadata": {
        "id": "M-Ynsb1XQ5J9"
      }
    },
    {
      "cell_type": "code",
      "execution_count": null,
      "metadata": {
        "colab": {
          "base_uri": "https://localhost:8080/"
        },
        "id": "9JGN4UIHQ1kY",
        "outputId": "9e7b7689-addc-4783-ec45-29ab25fabba1"
      },
      "outputs": [
        {
          "output_type": "execute_result",
          "data": {
            "text/plain": [
              "4"
            ]
          },
          "metadata": {},
          "execution_count": 1
        }
      ],
      "source": [
        "def sum(num1,num2) :\n",
        "    result = num1 + num2\n",
        "    return result"
      ]
    },
    {
      "cell_type": "code",
      "source": [
        "sum(3,4)"
      ],
      "metadata": {
        "colab": {
          "base_uri": "https://localhost:8080/"
        },
        "id": "i-Dd1-y4Rn32",
        "outputId": "cff701ea-c483-4a30-e8a9-db59e5c1fef6"
      },
      "execution_count": null,
      "outputs": [
        {
          "output_type": "execute_result",
          "data": {
            "text/plain": [
              "7"
            ]
          },
          "metadata": {},
          "execution_count": 3
        }
      ]
    },
    {
      "cell_type": "code",
      "source": [
        "# 입력값이 없는 경우\n",
        "def say() :\n",
        "    return 'Hi'\n",
        "say()"
      ],
      "metadata": {
        "colab": {
          "base_uri": "https://localhost:8080/",
          "height": 36
        },
        "id": "JcuvGXsLR1Zb",
        "outputId": "b0ba4bdd-d20d-498b-fc6f-a306a758f4f0"
      },
      "execution_count": null,
      "outputs": [
        {
          "output_type": "execute_result",
          "data": {
            "text/plain": [
              "'Hi'"
            ],
            "application/vnd.google.colaboratory.intrinsic+json": {
              "type": "string"
            }
          },
          "metadata": {},
          "execution_count": 4
        }
      ]
    },
    {
      "cell_type": "code",
      "source": [
        "def sum2(num1, num2):\n",
        "    print(num1+num2)\n",
        "a = sum(3,4)\n",
        "b = sum2(3,4)"
      ],
      "metadata": {
        "colab": {
          "base_uri": "https://localhost:8080/"
        },
        "id": "gH3DmrshSZtq",
        "outputId": "334fcf90-41a5-4e29-fea3-49279b7eb567"
      },
      "execution_count": null,
      "outputs": [
        {
          "output_type": "stream",
          "name": "stdout",
          "text": [
            "7\n"
          ]
        }
      ]
    },
    {
      "cell_type": "code",
      "source": [
        "print(a)\n",
        "print(b)"
      ],
      "metadata": {
        "colab": {
          "base_uri": "https://localhost:8080/"
        },
        "id": "zsgOd876Tn1b",
        "outputId": "a4515be2-16f8-4ed1-80e5-b8b0bd474603"
      },
      "execution_count": null,
      "outputs": [
        {
          "output_type": "stream",
          "name": "stdout",
          "text": [
            "7\n",
            "None\n"
          ]
        }
      ]
    },
    {
      "cell_type": "code",
      "source": [
        "def say_myself(name, old, man = True):\n",
        "    print(f'나의 이름은 {name}입니다.')\n",
        "    print(f'나의 나이는 {old}입니다.')\n",
        "    if man :\n",
        "        print('남자입니다')\n",
        "    else :\n",
        "        print('여자입니다.')\n",
        "\n",
        "say_myself('홍길동', 20)\n",
        "say_myself('유재석', 55,True)\n",
        "say_myself('박명순', 25, False)"
      ],
      "metadata": {
        "colab": {
          "base_uri": "https://localhost:8080/"
        },
        "id": "2-kJaBPuTpfS",
        "outputId": "2672f667-dafb-47c9-a305-3c87b04a1041"
      },
      "execution_count": null,
      "outputs": [
        {
          "output_type": "stream",
          "name": "stdout",
          "text": [
            "나의 이름은 홍길동입니다.\n",
            "나의 나이는 20입니다.\n",
            "남자입니다\n",
            "나의 이름은 유재석입니다.\n",
            "나의 나이는 55입니다.\n",
            "남자입니다\n",
            "나의 이름은 박명순입니다.\n",
            "나의 나이는 25입니다.\n",
            "여자입니다.\n"
          ]
        }
      ]
    },
    {
      "cell_type": "markdown",
      "source": [
        "## 전역변수 vs 지역변수\n",
        "- 전역변수 : 함수 외부에서 선언된 변수이며 프로그램 전체에서 사용 가능하다.\n",
        "- 지역변수 : 함수 내부에서 선언된 변수이며 해당 함수 내부에서만 사용할 수 있다."
      ],
      "metadata": {
        "id": "bQqpk-vSXbLq"
      }
    },
    {
      "cell_type": "code",
      "source": [
        "def test():\n",
        "    local_var = 20 #지역 변수\n",
        "    return local_var\n",
        "a = test()\n",
        "print(a)"
      ],
      "metadata": {
        "colab": {
          "base_uri": "https://localhost:8080/"
        },
        "id": "tAfemJ24W3ez",
        "outputId": "6f46f9dc-944a-4306-db5f-e134fa768da1"
      },
      "execution_count": null,
      "outputs": [
        {
          "output_type": "stream",
          "name": "stdout",
          "text": [
            "20\n"
          ]
        }
      ]
    },
    {
      "cell_type": "code",
      "source": [
        "def test2():\n",
        "    global local_var #전역 변수 설정\n",
        "    local_var = 20 #전역 변수 정의\n",
        "test2()\n",
        "print(local_var)"
      ],
      "metadata": {
        "colab": {
          "base_uri": "https://localhost:8080/"
        },
        "id": "CkJTD614X6Zz",
        "outputId": "631d8982-786e-4b08-e8e4-f3b371cabc84"
      },
      "execution_count": null,
      "outputs": [
        {
          "output_type": "stream",
          "name": "stdout",
          "text": [
            "20\n"
          ]
        }
      ]
    },
    {
      "cell_type": "markdown",
      "source": [
        "Example 2-9. 입력하는 모든 수의 평균을 계산하는 함수 만들기\n",
        "* 입력 개수에 상관없이 사용하기 위해, 함수 입력 값 자리에, *args를 사용\n",
        "-> def means(*args):"
      ],
      "metadata": {
        "id": "VRVjGOT0cRDs"
      }
    },
    {
      "cell_type": "code",
      "source": [
        "def means(*args):\n",
        "    sum1 = 0\n",
        "    count1 = 0\n",
        "    for i in args:\n",
        "        sum1 = sum1 + i\n",
        "        count1 = count1 + 1\n",
        "    result = sum1/count1\n",
        "    return result\n",
        "print(means(1,2,3,4,5,6,5,5,5))"
      ],
      "metadata": {
        "colab": {
          "base_uri": "https://localhost:8080/"
        },
        "id": "ze60CwhnYxkk",
        "outputId": "e879ead4-8795-4a17-ee52-b7531009a5b3"
      },
      "execution_count": null,
      "outputs": [
        {
          "output_type": "stream",
          "name": "stdout",
          "text": [
            "4.0\n"
          ]
        }
      ]
    },
    {
      "cell_type": "markdown",
      "source": [
        "Example 2-10. 두 수를 입력 받아 사칙연산(+,-, x, /)을 하는 함수 만들기"
      ],
      "metadata": {
        "id": "L29jJVGpcTZz"
      }
    },
    {
      "cell_type": "code",
      "source": [
        "def cul():\n",
        "    num1 = int(input('첫번 째 숫자를 입력하세요! : '))\n",
        "    a = input(\"기호를 입력하시오 : \")\n",
        "    num2 = int(input('두번 째 숫자를 입력하세요! : '))\n",
        "    if a == '+' :\n",
        "        return num1 + num2\n",
        "    elif a == '-' :\n",
        "        return num1 - num2\n",
        "    elif a == '*' :\n",
        "        return num1 * num2\n",
        "    elif a == '/' :\n",
        "        return num1 / num2\n",
        "    elif a == '//' :\n",
        "        return num1 // num2\n",
        "    elif a == '%' :\n",
        "        return num1 % num2\n",
        "    else :\n",
        "        return '제공되지 않는 기호 입니다.'\n",
        "\n",
        "\n",
        "cul()"
      ],
      "metadata": {
        "colab": {
          "base_uri": "https://localhost:8080/"
        },
        "id": "NZ3Nc_9OcXVk",
        "outputId": "2530e510-d41d-4972-aaec-411cd720a7c0"
      },
      "execution_count": null,
      "outputs": [
        {
          "name": "stdout",
          "output_type": "stream",
          "text": [
            "첫번 째 숫자를 입력하세요! : 1\n",
            "기호를 입력하시오 : +\n",
            "두번 째 숫자를 입력하세요! : 2\n"
          ]
        },
        {
          "output_type": "execute_result",
          "data": {
            "text/plain": [
              "3"
            ]
          },
          "metadata": {},
          "execution_count": 41
        }
      ]
    },
    {
      "cell_type": "code",
      "source": [],
      "metadata": {
        "id": "jauFxwRihzEF"
      },
      "execution_count": null,
      "outputs": []
    }
  ]
}
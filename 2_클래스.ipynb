{
  "nbformat": 4,
  "nbformat_minor": 0,
  "metadata": {
    "colab": {
      "provenance": [],
      "authorship_tag": "ABX9TyMTFL1j94QEKO8792mAsopp",
      "include_colab_link": true
    },
    "kernelspec": {
      "name": "python3",
      "display_name": "Python 3"
    },
    "language_info": {
      "name": "python"
    }
  },
  "cells": [
    {
      "cell_type": "markdown",
      "metadata": {
        "id": "view-in-github",
        "colab_type": "text"
      },
      "source": [
        "<a href=\"https://colab.research.google.com/github/2youngje/SeSAC_python_basic/blob/main/2_%ED%81%B4%EB%9E%98%EC%8A%A4.ipynb\" target=\"_parent\"><img src=\"https://colab.research.google.com/assets/colab-badge.svg\" alt=\"Open In Colab\"/></a>"
      ]
    },
    {
      "cell_type": "markdown",
      "source": [
        "# 클래스"
      ],
      "metadata": {
        "id": "_0Blweg_lqvV"
      }
    },
    {
      "cell_type": "code",
      "execution_count": null,
      "metadata": {
        "id": "TtjI9Wd9lnz_"
      },
      "outputs": [],
      "source": [
        "class 붕어빵 :\n",
        "    def __init__(self,속재료) :\n",
        "        self.속재료 = 속재료"
      ]
    },
    {
      "cell_type": "code",
      "source": [
        "피자붕어빵 = 붕어빵('피자')\n",
        "팥붕어빵 = 붕어빵('팥')"
      ],
      "metadata": {
        "id": "GekHJoSYmBKN"
      },
      "execution_count": null,
      "outputs": []
    },
    {
      "cell_type": "markdown",
      "source": [
        "## 클래스 만들기"
      ],
      "metadata": {
        "id": "R4X8Xa-77g6U"
      }
    },
    {
      "cell_type": "code",
      "source": [
        "# __init__이 없이 클래스 만들기\n",
        "class FourCal :\n",
        "    def set_data(self, num1, num2):\n",
        "        self.num1 = num1\n",
        "        self.num2 = num2\n",
        "\n",
        "    def add(self):\n",
        "        return self.num1 + self.num2\n",
        "\n",
        "    def diff(self):\n",
        "        return self.num1 - self.num2\n",
        "\n",
        "    def mul(self):\n",
        "        return self.num1 * self.num2\n",
        "\n",
        "    def div(self):\n",
        "        return self.num1 / self.num2\n",
        "\n",
        "a = FourCal()\n",
        "a.set_data(10,20)\n",
        "print(a.add())"
      ],
      "metadata": {
        "id": "HJIPEWCmmE-n",
        "colab": {
          "base_uri": "https://localhost:8080/"
        },
        "outputId": "3ee3302e-3fda-4c7f-ce58-730a4508fd7f"
      },
      "execution_count": 12,
      "outputs": [
        {
          "output_type": "stream",
          "name": "stdout",
          "text": [
            "30\n"
          ]
        }
      ]
    },
    {
      "cell_type": "code",
      "source": [
        "# __init__포함 클래스 만들기\n",
        "class FourCal :\n",
        "    def __init__(self, num1, num2):\n",
        "        self.num1 = num1\n",
        "        self.num2 = num2\n",
        "\n",
        "    def add(self):\n",
        "        return self.num1 + self.num2\n",
        "\n",
        "    def sub(self):\n",
        "        return self.num1 - self.num2\n",
        "\n",
        "    def mul(self):\n",
        "        return self.num1 * self.num2\n",
        "\n",
        "    def div(self):\n",
        "        return self.num1 / self.num2\n",
        "\n",
        "a = FourCal(10,20)\n",
        "print(a.add())\n",
        "print(a.sub())\n",
        "print(a.mul())\n",
        "print(a.div())"
      ],
      "metadata": {
        "colab": {
          "base_uri": "https://localhost:8080/"
        },
        "id": "lyUJvAkh7CWG",
        "outputId": "143a4051-9ca3-4485-802f-a4c6437a8ecc"
      },
      "execution_count": 14,
      "outputs": [
        {
          "output_type": "stream",
          "name": "stdout",
          "text": [
            "30\n",
            "-10\n",
            "200\n",
            "0.5\n"
          ]
        }
      ]
    },
    {
      "cell_type": "code",
      "source": [],
      "metadata": {
        "id": "CDIoOQe-9ozj"
      },
      "execution_count": null,
      "outputs": []
    }
  ]
}
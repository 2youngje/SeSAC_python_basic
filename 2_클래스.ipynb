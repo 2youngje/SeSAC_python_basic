{
  "nbformat": 4,
  "nbformat_minor": 0,
  "metadata": {
    "colab": {
      "provenance": [],
      "authorship_tag": "ABX9TyOSCfDfW6Fgq8feGVtEIvUM"
    },
    "kernelspec": {
      "name": "python3",
      "display_name": "Python 3"
    },
    "language_info": {
      "name": "python"
    }
  },
  "cells": [
    {
      "cell_type": "markdown",
      "source": [
        "# 클래스"
      ],
      "metadata": {
        "id": "_0Blweg_lqvV"
      }
    },
    {
      "cell_type": "code",
      "execution_count": null,
      "metadata": {
        "id": "TtjI9Wd9lnz_"
      },
      "outputs": [],
      "source": [
        "class 붕어빵 :\n",
        "    def __init__(self,속재료) :\n",
        "        self.속재료 = 속재료"
      ]
    },
    {
      "cell_type": "code",
      "source": [
        "피자붕어빵 = 붕어빵('피자')\n",
        "팥붕어빵 = 붕어빵('팥')"
      ],
      "metadata": {
        "id": "GekHJoSYmBKN"
      },
      "execution_count": null,
      "outputs": []
    },
    {
      "cell_type": "markdown",
      "source": [
        "## 클래스 만들기"
      ],
      "metadata": {
        "id": "R4X8Xa-77g6U"
      }
    },
    {
      "cell_type": "code",
      "source": [
        "# __init__이 없이 클래스 만들기\n",
        "class FourCal :\n",
        "    def set_data(self, num1, num2):\n",
        "        self.num1 = num1\n",
        "        self.num2 = num2\n",
        "\n",
        "    def add(self):\n",
        "        return self.num1 + self.num2\n",
        "\n",
        "    def diff(self):\n",
        "        return self.num1 - self.num2\n",
        "\n",
        "    def mul(self):\n",
        "        return self.num1 * self.num2\n",
        "\n",
        "    def div(self):\n",
        "        return self.num1 / self.num2\n",
        "\n",
        "a = FourCal()\n",
        "a.set_data(10,20)\n",
        "print(a.add())"
      ],
      "metadata": {
        "id": "HJIPEWCmmE-n",
        "colab": {
          "base_uri": "https://localhost:8080/"
        },
        "outputId": "3ee3302e-3fda-4c7f-ce58-730a4508fd7f"
      },
      "execution_count": null,
      "outputs": [
        {
          "output_type": "stream",
          "name": "stdout",
          "text": [
            "30\n"
          ]
        }
      ]
    },
    {
      "cell_type": "code",
      "source": [
        "# __init__포함 클래스 만들기\n",
        "class FourCal :\n",
        "    def __init__(self, num1, num2):\n",
        "        self.num1 = num1\n",
        "        self.num2 = num2\n",
        "\n",
        "    def add(self):\n",
        "        return self.num1 + self.num2\n",
        "\n",
        "    def sub(self):\n",
        "        return self.num1 - self.num2\n",
        "\n",
        "    def mul(self):\n",
        "        return self.num1 * self.num2\n",
        "\n",
        "    def div(self):\n",
        "        return self.num1 / self.num2\n",
        "\n",
        "a = FourCal(10,20)\n",
        "print(a.add())\n",
        "print(a.sub())\n",
        "print(a.mul())\n",
        "print(a.div())"
      ],
      "metadata": {
        "colab": {
          "base_uri": "https://localhost:8080/"
        },
        "id": "lyUJvAkh7CWG",
        "outputId": "143a4051-9ca3-4485-802f-a4c6437a8ecc"
      },
      "execution_count": null,
      "outputs": [
        {
          "output_type": "stream",
          "name": "stdout",
          "text": [
            "30\n",
            "-10\n",
            "200\n",
            "0.5\n"
          ]
        }
      ]
    },
    {
      "cell_type": "markdown",
      "source": [
        "### 실습문제\n",
        "1. BankAccount 이름의 클래스를 생성합니다.\n",
        "2. 생성자 메서드로, 계좌 번호, 예금주 이름, 초기 잔액을 받아 계좌를 생성합니다.\n",
        "3. 입금, 출금, 현재 계좌의 잔액을 반환하는 메서드를 생성합니다.\n"
      ],
      "metadata": {
        "id": "g3w11wBfGny8"
      }
    },
    {
      "cell_type": "code",
      "source": [
        "class BankAccount:\n",
        "    def __init__(self,account, name, change):\n",
        "        self.account = account\n",
        "        self.name = name\n",
        "        self.change = change\n",
        "\n",
        "    def add(self,money):\n",
        "        self.change = self.change + money\n",
        "\n",
        "    def sub(self,money):\n",
        "        self.change = self.change - money\n",
        "\n",
        "young = BankAccount('123-456-789','이영제',1000000)\n",
        "young.sub(200000)\n",
        "print(young.change)"
      ],
      "metadata": {
        "colab": {
          "base_uri": "https://localhost:8080/"
        },
        "id": "CDIoOQe-9ozj",
        "outputId": "df53742c-3c10-40f9-a31b-2699c54c4141"
      },
      "execution_count": null,
      "outputs": [
        {
          "output_type": "stream",
          "name": "stdout",
          "text": [
            "800000\n"
          ]
        }
      ]
    },
    {
      "cell_type": "markdown",
      "source": [
        "## 상속"
      ],
      "metadata": {
        "id": "7kiflPKcNHwl"
      }
    },
    {
      "cell_type": "code",
      "source": [
        "class MoreFourCal(FourCal):\n",
        "    def div(self):\n",
        "        if self.num2 == 0:\n",
        "            return 0\n",
        "        else:\n",
        "            return self.num1 /self.num2"
      ],
      "metadata": {
        "id": "cbB-AygCI5J9"
      },
      "execution_count": 34,
      "outputs": []
    },
    {
      "cell_type": "code",
      "source": [
        "a = MoreFourCal(4,2)\n",
        "a.add()"
      ],
      "metadata": {
        "colab": {
          "base_uri": "https://localhost:8080/"
        },
        "id": "pm9SIpFYMtZe",
        "outputId": "259896f6-3b73-4b48-8d69-9369e7fc2a2e"
      },
      "execution_count": 31,
      "outputs": [
        {
          "output_type": "execute_result",
          "data": {
            "text/plain": [
              "6"
            ]
          },
          "metadata": {},
          "execution_count": 31
        }
      ]
    },
    {
      "cell_type": "code",
      "source": [
        "b = MoreFourCal(2,0)\n",
        "b.div()"
      ],
      "metadata": {
        "colab": {
          "base_uri": "https://localhost:8080/"
        },
        "id": "W8f_RUAdNYsH",
        "outputId": "9adc589b-ed6c-4530-e860-7492cc3860ce"
      },
      "execution_count": 35,
      "outputs": [
        {
          "output_type": "execute_result",
          "data": {
            "text/plain": [
              "0"
            ]
          },
          "metadata": {},
          "execution_count": 35
        }
      ]
    },
    {
      "cell_type": "code",
      "source": [],
      "metadata": {
        "id": "MYAArzT4Obzu"
      },
      "execution_count": null,
      "outputs": []
    }
  ]
}